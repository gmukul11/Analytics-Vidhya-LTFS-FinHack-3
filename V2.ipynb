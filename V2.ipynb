{
 "cells": [
  {
   "cell_type": "code",
   "execution_count": 1,
   "metadata": {},
   "outputs": [],
   "source": [
    "import pandas as pd\n",
    "import numpy as np\n",
    "from sklearn.metrics import f1_score,precision_score,recall_score,confusion_matrix\n",
    "from sklearn.model_selection import train_test_split\n",
    "import seaborn as sns\n",
    "import matplotlib.pyplot as plt\n",
    "pd.set_option('display.max_columns', 50)\n",
    "pd.set_option('display.max_colwidth',None)"
   ]
  },
  {
   "cell_type": "code",
   "execution_count": 2,
   "metadata": {},
   "outputs": [],
   "source": [
    "from catboost import CatBoostClassifier"
   ]
  },
  {
   "cell_type": "code",
   "execution_count": 3,
   "metadata": {},
   "outputs": [],
   "source": [
    "train=pd.read_csv(r\".\\Train\\Train\\train_Data.csv\")"
   ]
  },
  {
   "cell_type": "code",
   "execution_count": 4,
   "metadata": {},
   "outputs": [],
   "source": [
    "trainb=pd.read_excel(r\".\\Train\\Train\\train_bureau.xlsx\")"
   ]
  },
  {
   "cell_type": "code",
   "execution_count": 5,
   "metadata": {},
   "outputs": [],
   "source": [
    "test=pd.read_excel(r\".\\Test\\test_Data.xlsx\")"
   ]
  },
  {
   "cell_type": "code",
   "execution_count": 6,
   "metadata": {},
   "outputs": [],
   "source": [
    "testb=pd.read_csv(r\".\\Test\\test_bureau.csv\")"
   ]
  },
  {
   "cell_type": "code",
   "execution_count": 8,
   "metadata": {},
   "outputs": [
    {
     "data": {
      "text/plain": [
       "Index(['ID', 'Frequency', 'InstlmentMode', 'LoanStatus', 'PaymentMode',\n",
       "       'BranchID', 'Area', 'Tenure', 'AssetCost', 'AmountFinance',\n",
       "       'DisbursalAmount', 'EMI', 'DisbursalDate', 'MaturityDAte', 'AuthDate',\n",
       "       'AssetID', 'ManufacturerID', 'SupplierID', 'LTV', 'SEX', 'AGE',\n",
       "       'MonthlyIncome', 'City', 'State', 'ZiPCODE', 'Top-up Month'],\n",
       "      dtype='object')"
      ]
     },
     "execution_count": 8,
     "metadata": {},
     "output_type": "execute_result"
    }
   ],
   "source": [
    "train.columns"
   ]
  },
  {
   "cell_type": "code",
   "execution_count": 12,
   "metadata": {},
   "outputs": [
    {
     "data": {
      "text/plain": [
       "Closed                         320255\n",
       "Active                         201897\n",
       "Delinquent                      32457\n",
       "Written Off                      2937\n",
       "Suit Filed                       2062\n",
       "Settled                           626\n",
       "Restructured                      511\n",
       "SUIT FILED (WILFUL DEFAULT)        70\n",
       "WILFUL DEFAULT                     27\n",
       "Sold/Purchased                      1\n",
       "Cancelled                           1\n",
       "Name: ACCOUNT-STATUS, dtype: int64"
      ]
     },
     "execution_count": 12,
     "metadata": {},
     "output_type": "execute_result"
    }
   ],
   "source": [
    "trainb['ACCOUNT-STATUS'].value_counts()"
   ]
  },
  {
   "cell_type": "code",
   "execution_count": 7,
   "metadata": {},
   "outputs": [],
   "source": [
    "trainb=trainb.drop_duplicates(subset=['ID','DISBURSED-DT','ACCT-TYPE'])"
   ]
  },
  {
   "cell_type": "code",
   "execution_count": 8,
   "metadata": {},
   "outputs": [],
   "source": [
    "testb=testb.drop_duplicates(subset=['ID','DISBURSED-DT','ACCT-TYPE'])"
   ]
  },
  {
   "cell_type": "code",
   "execution_count": 42,
   "metadata": {},
   "outputs": [
    {
     "name": "stderr",
     "output_type": "stream",
     "text": [
      "C:\\Users\\Sahil\\anaconda3\\lib\\site-packages\\pandas\\core\\missing.py:49: FutureWarning: elementwise comparison failed; returning scalar instead, but in the future will perform elementwise comparison\n",
      "  mask = arr == x\n"
     ]
    }
   ],
   "source": [
    "trainb=trainb.replace(\"nan\",None)\n",
    "testb=testb.replace(\"nan\",None)"
   ]
  },
  {
   "cell_type": "code",
   "execution_count": 9,
   "metadata": {},
   "outputs": [],
   "source": [
    "def freqconvert(frq):\n",
    "    if frq=='Half Yearly': return 1/6\n",
    "    elif frq=='Monthly' : return 1.0\n",
    "    elif frq=='Quatrly' : return 1/3\n",
    "    elif frq=='BI-Monthly' : return 1/2\n",
    "    else : return 1.0 "
   ]
  },
  {
   "cell_type": "code",
   "execution_count": 91,
   "metadata": {},
   "outputs": [],
   "source": [
    "def preprocessingdata(data,bureau):\n",
    "    data['freqn']=data['Frequency'].apply(freqconvert)\n",
    "    data['interest']=data['EMI']*data['freqn']*data['Tenure']\n",
    "    data['intoamt']=data['interest']/data['DisbursalAmount']\n",
    "    data['anninc']=data['MonthlyIncome']*12\n",
    "    data['amttoinc']=data['DisbursalAmount']/data['anninc']\n",
    "    data['MaturityDAte']=pd.to_datetime(data['MaturityDAte'])\n",
    "    data['DisbursalDate']=pd.to_datetime(data['DisbursalDate'])\n",
    "    data['tmtom']=(data['MaturityDAte']-data['DisbursalDate'])/np.timedelta64(1,'M')\n",
    "    data['payrej']=data['PaymentMode'].apply(lambda x : 1 if \"Reject\" in x else 0)\n",
    "    bureau=bureau.replace(np.nan,None)\n",
    "    bureau['CURRENT-BAL']=bureau['CURRENT-BAL'].astype(str)\n",
    "    bureau['CURRENT-BAL']=bureau['CURRENT-BAL'].fillna(0)\n",
    "    bureau['CURRENT-BAL']=bureau['CURRENT-BAL'].apply(lambda x : x.replace(\",\",\"\"))\n",
    "    bureau['CURRENT-BAL']=bureau['CURRENT-BAL'].astype(int)\n",
    "    idgrpbal=bureau.groupby('ID')['CURRENT-BAL'].sum()\n",
    "    idgrpaccstt=bureau.groupby('ID')['ACCOUNT-STATUS'].value_counts().unstack().fillna(0)\n",
    "    idgrpaccstt['bad']=idgrpaccstt['Delinquent']+idgrpaccstt['Written Off']\n",
    "    idgrpaccstt.reset_index(inplace=True)\n",
    "    idgrpaccstt=idgrpaccstt[['ID','bad']]\n",
    "    temp=pd.merge(data,bureau,on='ID',how='left')\n",
    "    temp['DISBURSED-DT']=pd.to_datetime(temp['DISBURSED-DT'])\n",
    "    temp['sameloan']=np.where((temp['DisbursalDate']==temp['DISBURSED-DT']) & (temp['SELF-INDICATOR']==True),1,0)\n",
    "    temp2=temp[temp['sameloan']==1]\n",
    "    temp2=temp2[['ID','ACCT-TYPE']]\n",
    "    tempfinal=pd.merge(temp,temp2,on=['ID','ACCT-TYPE'],how='inner')\n",
    "    tempfinal['datediff']=(tempfinal['DISBURSED-DT']-tempfinal['DisbursalDate'])/np.timedelta64(1,'M')\n",
    "    tempfinal=tempfinal[tempfinal['datediff']>0]\n",
    "    tempfinal=tempfinal[tempfinal['SELF-INDICATOR']==True]\n",
    "    idgrpnwlndf=tempfinal.groupby('ID')['datediff'].mean()\n",
    "    idgrpnwlndf=idgrpnwlndf.to_frame(name='mttonewloan')\n",
    "    datafinal=data.merge(idgrpbal,on='ID',how='left').merge(idgrpaccstt,on='ID',how='left').merge(idgrpnwlndf,on='ID',how='left')\n",
    "    datafinal.loc[:,'AGE']=datafinal.loc[:,'AGE'].fillna(datafinal.loc[:,'AGE'].mean())\n",
    "    datafinal.loc[:,'SEX']=datafinal.loc[:,'SEX'].fillna('X')\n",
    "    datafinal.loc[:,'tmtom']=datafinal.loc[:,'tmtom'].fillna(9999999)\n",
    "    datafinal.loc[:,'mttonewloan']=datafinal.loc[:,'mttonewloan'].fillna(-9999)\n",
    "    datafinal.loc[:,'amttoinc']=datafinal.loc[:,'amttoinc'].fillna(datafinal.loc[:,'amttoinc'].mean())\n",
    "    datafinal.loc[:,'anninc']=datafinal.loc[:,'anninc'].fillna(datafinal.loc[:,'anninc'].mean())\n",
    "    return datafinal"
   ]
  },
  {
   "cell_type": "code",
   "execution_count": 92,
   "metadata": {},
   "outputs": [],
   "source": [
    "traindata=preprocessingdata(train,trainb)\n",
    "testdata=preprocessingdata(test,testb)"
   ]
  },
  {
   "cell_type": "code",
   "execution_count": 137,
   "metadata": {},
   "outputs": [],
   "source": [
    "fli=['Tenure','LoanStatus','AGE','LTV','intoamt','amttoinc','anninc','payrej',\\\n",
    "     'CURRENT-BAL','bad','mttonewloan','tmtom','Top-up Month']"
   ]
  },
  {
   "cell_type": "code",
   "execution_count": 138,
   "metadata": {},
   "outputs": [],
   "source": [
    "traindata1=traindata[fli]"
   ]
  },
  {
   "cell_type": "code",
   "execution_count": 139,
   "metadata": {},
   "outputs": [],
   "source": [
    "xtrain, xval, ytrain, yval=train_test_split(traindata1.iloc[:,:-1].values,traindata1.iloc[:,-1:].values,test_size=0.2,random_state=42)"
   ]
  },
  {
   "cell_type": "code",
   "execution_count": 142,
   "metadata": {},
   "outputs": [],
   "source": [
    "model=CatBoostClassifier(random_strength=0.1,loss_function='MultiClass',eval_metric='TotalF1',leaf_estimation_method='Newton',\\\n",
    "                        learning_rate=0.11,depth=5,iterations=183)"
   ]
  },
  {
   "cell_type": "code",
   "execution_count": 143,
   "metadata": {
    "scrolled": false
   },
   "outputs": [
    {
     "name": "stdout",
     "output_type": "stream",
     "text": [
      "0:\tlearn: 0.7893338\ttest: 0.7964225\tbest: 0.7964225 (0)\ttotal: 117ms\tremaining: 21.4s\n",
      "1:\tlearn: 0.7896832\ttest: 0.7965194\tbest: 0.7965194 (1)\ttotal: 232ms\tremaining: 21s\n",
      "2:\tlearn: 0.7937270\ttest: 0.7993488\tbest: 0.7993488 (2)\ttotal: 348ms\tremaining: 20.9s\n",
      "3:\tlearn: 0.7937270\ttest: 0.7993488\tbest: 0.7993488 (2)\ttotal: 464ms\tremaining: 20.7s\n",
      "4:\tlearn: 0.7936011\ttest: 0.7993488\tbest: 0.7993488 (2)\ttotal: 582ms\tremaining: 20.7s\n",
      "5:\tlearn: 0.7936011\ttest: 0.7993488\tbest: 0.7993488 (2)\ttotal: 717ms\tremaining: 21.2s\n",
      "6:\tlearn: 0.7935828\ttest: 0.7992760\tbest: 0.7993488 (2)\ttotal: 847ms\tremaining: 21.3s\n",
      "7:\tlearn: 0.7936011\ttest: 0.7993488\tbest: 0.7993488 (2)\ttotal: 978ms\tremaining: 21.4s\n",
      "8:\tlearn: 0.7937549\ttest: 0.7994759\tbest: 0.7994759 (8)\ttotal: 1.1s\tremaining: 21.2s\n",
      "9:\tlearn: 0.7937549\ttest: 0.7994759\tbest: 0.7994759 (8)\ttotal: 1.2s\tremaining: 20.8s\n",
      "10:\tlearn: 0.7936320\ttest: 0.7992899\tbest: 0.7994759 (8)\ttotal: 1.33s\tremaining: 20.9s\n",
      "11:\tlearn: 0.7936394\ttest: 0.7992899\tbest: 0.7994759 (8)\ttotal: 1.45s\tremaining: 20.6s\n",
      "12:\tlearn: 0.7936652\ttest: 0.7993492\tbest: 0.7994759 (8)\ttotal: 1.58s\tremaining: 20.6s\n",
      "13:\tlearn: 0.7936731\ttest: 0.7992764\tbest: 0.7994759 (8)\ttotal: 1.69s\tremaining: 20.3s\n",
      "14:\tlearn: 0.7937201\ttest: 0.7993492\tbest: 0.7994759 (8)\ttotal: 1.81s\tremaining: 20.3s\n",
      "15:\tlearn: 0.7936918\ttest: 0.7992702\tbest: 0.7994759 (8)\ttotal: 1.92s\tremaining: 20s\n",
      "16:\tlearn: 0.7944861\ttest: 0.8003612\tbest: 0.8003612 (16)\ttotal: 2.03s\tremaining: 19.8s\n",
      "17:\tlearn: 0.7957536\ttest: 0.8016949\tbest: 0.8016949 (17)\ttotal: 2.15s\tremaining: 19.7s\n",
      "18:\tlearn: 0.7961886\ttest: 0.8022028\tbest: 0.8022028 (18)\ttotal: 2.29s\tremaining: 19.8s\n",
      "19:\tlearn: 0.7963026\ttest: 0.8022093\tbest: 0.8022093 (19)\ttotal: 2.4s\tremaining: 19.5s\n",
      "20:\tlearn: 0.7970849\ttest: 0.8037108\tbest: 0.8037108 (20)\ttotal: 2.51s\tremaining: 19.4s\n",
      "21:\tlearn: 0.7971068\ttest: 0.8037108\tbest: 0.8037108 (20)\ttotal: 2.63s\tremaining: 19.2s\n",
      "22:\tlearn: 0.7974163\ttest: 0.8039743\tbest: 0.8039743 (22)\ttotal: 2.76s\tremaining: 19.2s\n",
      "23:\tlearn: 0.7976117\ttest: 0.8041233\tbest: 0.8041233 (23)\ttotal: 2.87s\tremaining: 19s\n",
      "24:\tlearn: 0.7985158\ttest: 0.8052708\tbest: 0.8052708 (24)\ttotal: 2.98s\tremaining: 18.9s\n",
      "25:\tlearn: 0.8001229\ttest: 0.8066611\tbest: 0.8066611 (25)\ttotal: 3.12s\tremaining: 18.8s\n",
      "26:\tlearn: 0.8004427\ttest: 0.8069438\tbest: 0.8069438 (26)\ttotal: 3.24s\tremaining: 18.7s\n",
      "27:\tlearn: 0.8021282\ttest: 0.8086945\tbest: 0.8086945 (27)\ttotal: 3.4s\tremaining: 18.8s\n",
      "28:\tlearn: 0.8030011\ttest: 0.8097018\tbest: 0.8097018 (28)\ttotal: 3.54s\tremaining: 18.8s\n",
      "29:\tlearn: 0.8033002\ttest: 0.8096513\tbest: 0.8097018 (28)\ttotal: 3.66s\tremaining: 18.7s\n",
      "30:\tlearn: 0.8037311\ttest: 0.8099333\tbest: 0.8099333 (30)\ttotal: 3.79s\tremaining: 18.6s\n",
      "31:\tlearn: 0.8040251\ttest: 0.8101772\tbest: 0.8101772 (31)\ttotal: 3.94s\tremaining: 18.6s\n",
      "32:\tlearn: 0.8040759\ttest: 0.8101819\tbest: 0.8101819 (32)\ttotal: 4.09s\tremaining: 18.6s\n",
      "33:\tlearn: 0.8041403\ttest: 0.8106300\tbest: 0.8106300 (33)\ttotal: 4.22s\tremaining: 18.5s\n",
      "34:\tlearn: 0.8046746\ttest: 0.8110841\tbest: 0.8110841 (34)\ttotal: 4.35s\tremaining: 18.4s\n",
      "35:\tlearn: 0.8049167\ttest: 0.8111086\tbest: 0.8111086 (35)\ttotal: 4.47s\tremaining: 18.3s\n",
      "36:\tlearn: 0.8048855\ttest: 0.8110441\tbest: 0.8111086 (35)\ttotal: 4.61s\tremaining: 18.2s\n",
      "37:\tlearn: 0.8050755\ttest: 0.8113854\tbest: 0.8113854 (37)\ttotal: 4.75s\tremaining: 18.1s\n",
      "38:\tlearn: 0.8051043\ttest: 0.8114558\tbest: 0.8114558 (38)\ttotal: 4.89s\tremaining: 18.1s\n",
      "39:\tlearn: 0.8052985\ttest: 0.8117747\tbest: 0.8117747 (39)\ttotal: 5.03s\tremaining: 18s\n",
      "40:\tlearn: 0.8054755\ttest: 0.8119129\tbest: 0.8119129 (40)\ttotal: 5.16s\tremaining: 17.9s\n",
      "41:\tlearn: 0.8058338\ttest: 0.8125049\tbest: 0.8125049 (41)\ttotal: 5.27s\tremaining: 17.7s\n",
      "42:\tlearn: 0.8058806\ttest: 0.8123863\tbest: 0.8125049 (41)\ttotal: 5.38s\tremaining: 17.5s\n",
      "43:\tlearn: 0.8061014\ttest: 0.8129094\tbest: 0.8129094 (43)\ttotal: 5.5s\tremaining: 17.4s\n",
      "44:\tlearn: 0.8062742\ttest: 0.8127802\tbest: 0.8129094 (43)\ttotal: 5.63s\tremaining: 17.3s\n",
      "45:\tlearn: 0.8064201\ttest: 0.8127802\tbest: 0.8129094 (43)\ttotal: 5.74s\tremaining: 17.1s\n",
      "46:\tlearn: 0.8064930\ttest: 0.8127288\tbest: 0.8129094 (43)\ttotal: 5.86s\tremaining: 17s\n",
      "47:\tlearn: 0.8065860\ttest: 0.8129204\tbest: 0.8129204 (47)\ttotal: 6s\tremaining: 16.9s\n",
      "48:\tlearn: 0.8067027\ttest: 0.8128434\tbest: 0.8129204 (47)\ttotal: 6.16s\tremaining: 16.8s\n",
      "49:\tlearn: 0.8068498\ttest: 0.8129473\tbest: 0.8129473 (49)\ttotal: 6.28s\tremaining: 16.7s\n",
      "50:\tlearn: 0.8070186\ttest: 0.8129885\tbest: 0.8129885 (50)\ttotal: 6.42s\tremaining: 16.6s\n",
      "51:\tlearn: 0.8070096\ttest: 0.8130142\tbest: 0.8130142 (51)\ttotal: 6.55s\tremaining: 16.5s\n",
      "52:\tlearn: 0.8070786\ttest: 0.8130917\tbest: 0.8130917 (52)\ttotal: 6.67s\tremaining: 16.4s\n",
      "53:\tlearn: 0.8071044\ttest: 0.8132772\tbest: 0.8132772 (53)\ttotal: 6.82s\tremaining: 16.3s\n",
      "54:\tlearn: 0.8072014\ttest: 0.8131752\tbest: 0.8132772 (53)\ttotal: 6.95s\tremaining: 16.2s\n",
      "55:\tlearn: 0.8073851\ttest: 0.8133042\tbest: 0.8133042 (55)\ttotal: 7.07s\tremaining: 16s\n",
      "56:\tlearn: 0.8073766\ttest: 0.8133042\tbest: 0.8133042 (55)\ttotal: 7.19s\tremaining: 15.9s\n",
      "57:\tlearn: 0.8074549\ttest: 0.8136128\tbest: 0.8136128 (57)\ttotal: 7.31s\tremaining: 15.8s\n",
      "58:\tlearn: 0.8075313\ttest: 0.8134682\tbest: 0.8136128 (57)\ttotal: 7.43s\tremaining: 15.6s\n",
      "59:\tlearn: 0.8076313\ttest: 0.8136671\tbest: 0.8136671 (59)\ttotal: 7.55s\tremaining: 15.5s\n",
      "60:\tlearn: 0.8076288\ttest: 0.8136924\tbest: 0.8136924 (60)\ttotal: 7.69s\tremaining: 15.4s\n",
      "61:\tlearn: 0.8076674\ttest: 0.8137135\tbest: 0.8137135 (61)\ttotal: 7.82s\tremaining: 15.3s\n",
      "62:\tlearn: 0.8076819\ttest: 0.8138047\tbest: 0.8138047 (62)\ttotal: 7.94s\tremaining: 15.1s\n",
      "63:\tlearn: 0.8078307\ttest: 0.8139585\tbest: 0.8139585 (63)\ttotal: 8.07s\tremaining: 15s\n",
      "64:\tlearn: 0.8078490\ttest: 0.8140243\tbest: 0.8140243 (64)\ttotal: 8.21s\tremaining: 14.9s\n",
      "65:\tlearn: 0.8079066\ttest: 0.8141679\tbest: 0.8141679 (65)\ttotal: 8.33s\tremaining: 14.8s\n",
      "66:\tlearn: 0.8079328\ttest: 0.8140737\tbest: 0.8141679 (65)\ttotal: 8.48s\tremaining: 14.7s\n",
      "67:\tlearn: 0.8080081\ttest: 0.8140737\tbest: 0.8141679 (65)\ttotal: 8.62s\tremaining: 14.6s\n",
      "68:\tlearn: 0.8079196\ttest: 0.8140136\tbest: 0.8141679 (65)\ttotal: 8.79s\tremaining: 14.5s\n",
      "69:\tlearn: 0.8080009\ttest: 0.8140490\tbest: 0.8141679 (65)\ttotal: 8.91s\tremaining: 14.4s\n",
      "70:\tlearn: 0.8081438\ttest: 0.8140909\tbest: 0.8141679 (65)\ttotal: 9.03s\tremaining: 14.2s\n",
      "71:\tlearn: 0.8082306\ttest: 0.8140403\tbest: 0.8141679 (65)\ttotal: 9.16s\tremaining: 14.1s\n",
      "72:\tlearn: 0.8083055\ttest: 0.8139782\tbest: 0.8141679 (65)\ttotal: 9.3s\tremaining: 14s\n",
      "73:\tlearn: 0.8083491\ttest: 0.8140709\tbest: 0.8141679 (65)\ttotal: 9.43s\tremaining: 13.9s\n",
      "74:\tlearn: 0.8086188\ttest: 0.8139883\tbest: 0.8141679 (65)\ttotal: 9.57s\tremaining: 13.8s\n",
      "75:\tlearn: 0.8086499\ttest: 0.8139675\tbest: 0.8141679 (65)\ttotal: 9.68s\tremaining: 13.6s\n",
      "76:\tlearn: 0.8087477\ttest: 0.8140195\tbest: 0.8141679 (65)\ttotal: 9.81s\tremaining: 13.5s\n",
      "77:\tlearn: 0.8087492\ttest: 0.8140031\tbest: 0.8141679 (65)\ttotal: 9.93s\tremaining: 13.4s\n",
      "78:\tlearn: 0.8087925\ttest: 0.8139771\tbest: 0.8141679 (65)\ttotal: 10.1s\tremaining: 13.2s\n",
      "79:\tlearn: 0.8087698\ttest: 0.8140031\tbest: 0.8141679 (65)\ttotal: 10.2s\tremaining: 13.1s\n",
      "80:\tlearn: 0.8088539\ttest: 0.8142066\tbest: 0.8142066 (80)\ttotal: 10.3s\tremaining: 13s\n",
      "81:\tlearn: 0.8090162\ttest: 0.8140777\tbest: 0.8142066 (80)\ttotal: 10.4s\tremaining: 12.8s\n",
      "82:\tlearn: 0.8091882\ttest: 0.8141037\tbest: 0.8142066 (80)\ttotal: 10.6s\tremaining: 12.7s\n",
      "83:\tlearn: 0.8092734\ttest: 0.8142310\tbest: 0.8142310 (83)\ttotal: 10.7s\tremaining: 12.6s\n",
      "84:\tlearn: 0.8093389\ttest: 0.8142968\tbest: 0.8142968 (84)\ttotal: 10.8s\tremaining: 12.4s\n",
      "85:\tlearn: 0.8094225\ttest: 0.8143481\tbest: 0.8143481 (85)\ttotal: 10.9s\tremaining: 12.3s\n",
      "86:\tlearn: 0.8093997\ttest: 0.8142654\tbest: 0.8143481 (85)\ttotal: 11s\tremaining: 12.2s\n",
      "87:\tlearn: 0.8094599\ttest: 0.8142644\tbest: 0.8143481 (85)\ttotal: 11.1s\tremaining: 12s\n",
      "88:\tlearn: 0.8094702\ttest: 0.8143616\tbest: 0.8143616 (88)\ttotal: 11.3s\tremaining: 11.9s\n",
      "89:\tlearn: 0.8093884\ttest: 0.8146180\tbest: 0.8146180 (89)\ttotal: 11.4s\tremaining: 11.8s\n",
      "90:\tlearn: 0.8094816\ttest: 0.8145488\tbest: 0.8146180 (89)\ttotal: 11.5s\tremaining: 11.6s\n",
      "91:\tlearn: 0.8095513\ttest: 0.8145488\tbest: 0.8146180 (89)\ttotal: 11.6s\tremaining: 11.5s\n",
      "92:\tlearn: 0.8095175\ttest: 0.8144465\tbest: 0.8146180 (89)\ttotal: 11.8s\tremaining: 11.4s\n",
      "93:\tlearn: 0.8096338\ttest: 0.8146259\tbest: 0.8146259 (93)\ttotal: 11.9s\tremaining: 11.3s\n"
     ]
    },
    {
     "name": "stdout",
     "output_type": "stream",
     "text": [
      "94:\tlearn: 0.8097330\ttest: 0.8145998\tbest: 0.8146259 (93)\ttotal: 12.1s\tremaining: 11.2s\n",
      "95:\tlearn: 0.8097002\ttest: 0.8145486\tbest: 0.8146259 (93)\ttotal: 12.2s\tremaining: 11.1s\n",
      "96:\tlearn: 0.8096569\ttest: 0.8147281\tbest: 0.8147281 (96)\ttotal: 12.3s\tremaining: 10.9s\n",
      "97:\tlearn: 0.8097159\ttest: 0.8146774\tbest: 0.8147281 (96)\ttotal: 12.4s\tremaining: 10.8s\n",
      "98:\tlearn: 0.8098192\ttest: 0.8148453\tbest: 0.8148453 (98)\ttotal: 12.6s\tremaining: 10.7s\n",
      "99:\tlearn: 0.8098449\ttest: 0.8150104\tbest: 0.8150104 (99)\ttotal: 12.7s\tremaining: 10.5s\n",
      "100:\tlearn: 0.8099137\ttest: 0.8149840\tbest: 0.8150104 (99)\ttotal: 12.8s\tremaining: 10.4s\n",
      "101:\tlearn: 0.8099316\ttest: 0.8149679\tbest: 0.8150104 (99)\ttotal: 13s\tremaining: 10.3s\n",
      "102:\tlearn: 0.8098859\ttest: 0.8148413\tbest: 0.8150104 (99)\ttotal: 13.1s\tremaining: 10.2s\n",
      "103:\tlearn: 0.8101235\ttest: 0.8149767\tbest: 0.8150104 (99)\ttotal: 13.2s\tremaining: 10s\n",
      "104:\tlearn: 0.8102488\ttest: 0.8148277\tbest: 0.8150104 (99)\ttotal: 13.4s\tremaining: 9.92s\n",
      "105:\tlearn: 0.8102045\ttest: 0.8151477\tbest: 0.8151477 (105)\ttotal: 13.5s\tremaining: 9.79s\n",
      "106:\tlearn: 0.8102856\ttest: 0.8152224\tbest: 0.8152224 (106)\ttotal: 13.6s\tremaining: 9.66s\n",
      "107:\tlearn: 0.8103662\ttest: 0.8153653\tbest: 0.8153653 (107)\ttotal: 13.7s\tremaining: 9.54s\n",
      "108:\tlearn: 0.8103987\ttest: 0.8151610\tbest: 0.8153653 (107)\ttotal: 13.9s\tremaining: 9.42s\n",
      "109:\tlearn: 0.8105555\ttest: 0.8151009\tbest: 0.8153653 (107)\ttotal: 14s\tremaining: 9.31s\n",
      "110:\tlearn: 0.8105539\ttest: 0.8151694\tbest: 0.8153653 (107)\ttotal: 14.2s\tremaining: 9.19s\n",
      "111:\tlearn: 0.8105527\ttest: 0.8152730\tbest: 0.8153653 (107)\ttotal: 14.3s\tremaining: 9.05s\n",
      "112:\tlearn: 0.8106041\ttest: 0.8151970\tbest: 0.8153653 (107)\ttotal: 14.4s\tremaining: 8.94s\n",
      "113:\tlearn: 0.8105887\ttest: 0.8151862\tbest: 0.8153653 (107)\ttotal: 14.6s\tremaining: 8.82s\n",
      "114:\tlearn: 0.8105960\ttest: 0.8152623\tbest: 0.8153653 (107)\ttotal: 14.7s\tremaining: 8.69s\n",
      "115:\tlearn: 0.8106159\ttest: 0.8152231\tbest: 0.8153653 (107)\ttotal: 14.8s\tremaining: 8.56s\n",
      "116:\tlearn: 0.8106182\ttest: 0.8151608\tbest: 0.8153653 (107)\ttotal: 15s\tremaining: 8.45s\n",
      "117:\tlearn: 0.8105867\ttest: 0.8152941\tbest: 0.8153653 (107)\ttotal: 15.1s\tremaining: 8.32s\n",
      "118:\tlearn: 0.8106202\ttest: 0.8153663\tbest: 0.8153663 (118)\ttotal: 15.2s\tremaining: 8.2s\n",
      "119:\tlearn: 0.8106180\ttest: 0.8152918\tbest: 0.8153663 (118)\ttotal: 15.4s\tremaining: 8.06s\n",
      "120:\tlearn: 0.8105990\ttest: 0.8154132\tbest: 0.8154132 (120)\ttotal: 15.5s\tremaining: 7.94s\n",
      "121:\tlearn: 0.8105977\ttest: 0.8154132\tbest: 0.8154132 (120)\ttotal: 15.6s\tremaining: 7.82s\n",
      "122:\tlearn: 0.8106637\ttest: 0.8153293\tbest: 0.8154132 (120)\ttotal: 15.8s\tremaining: 7.69s\n",
      "123:\tlearn: 0.8106771\ttest: 0.8153293\tbest: 0.8154132 (120)\ttotal: 15.9s\tremaining: 7.57s\n",
      "124:\tlearn: 0.8107318\ttest: 0.8153285\tbest: 0.8154132 (120)\ttotal: 16s\tremaining: 7.44s\n",
      "125:\tlearn: 0.8107120\ttest: 0.8154655\tbest: 0.8154655 (125)\ttotal: 16.2s\tremaining: 7.31s\n",
      "126:\tlearn: 0.8107156\ttest: 0.8155071\tbest: 0.8155071 (126)\ttotal: 16.3s\tremaining: 7.18s\n",
      "127:\tlearn: 0.8107585\ttest: 0.8154348\tbest: 0.8155071 (126)\ttotal: 16.4s\tremaining: 7.05s\n",
      "128:\tlearn: 0.8108940\ttest: 0.8155788\tbest: 0.8155788 (128)\ttotal: 16.5s\tremaining: 6.93s\n",
      "129:\tlearn: 0.8108521\ttest: 0.8155788\tbest: 0.8155788 (128)\ttotal: 16.7s\tremaining: 6.79s\n",
      "130:\tlearn: 0.8108528\ttest: 0.8155788\tbest: 0.8155788 (128)\ttotal: 16.8s\tremaining: 6.67s\n",
      "131:\tlearn: 0.8109483\ttest: 0.8155888\tbest: 0.8155888 (131)\ttotal: 16.9s\tremaining: 6.53s\n",
      "132:\tlearn: 0.8109156\ttest: 0.8156385\tbest: 0.8156385 (132)\ttotal: 17.1s\tremaining: 6.41s\n",
      "133:\tlearn: 0.8109575\ttest: 0.8157419\tbest: 0.8157419 (133)\ttotal: 17.2s\tremaining: 6.28s\n",
      "134:\tlearn: 0.8109723\ttest: 0.8157134\tbest: 0.8157419 (133)\ttotal: 17.3s\tremaining: 6.16s\n",
      "135:\tlearn: 0.8109123\ttest: 0.8156113\tbest: 0.8157419 (133)\ttotal: 17.4s\tremaining: 6.02s\n",
      "136:\tlearn: 0.8109693\ttest: 0.8156465\tbest: 0.8157419 (133)\ttotal: 17.6s\tremaining: 5.9s\n",
      "137:\tlearn: 0.8110338\ttest: 0.8156465\tbest: 0.8157419 (133)\ttotal: 17.7s\tremaining: 5.77s\n",
      "138:\tlearn: 0.8110406\ttest: 0.8156727\tbest: 0.8157419 (133)\ttotal: 17.8s\tremaining: 5.64s\n",
      "139:\tlearn: 0.8110042\ttest: 0.8156727\tbest: 0.8157419 (133)\ttotal: 17.9s\tremaining: 5.51s\n",
      "140:\tlearn: 0.8110489\ttest: 0.8155760\tbest: 0.8157419 (133)\ttotal: 18.1s\tremaining: 5.39s\n",
      "141:\tlearn: 0.8111303\ttest: 0.8156377\tbest: 0.8157419 (133)\ttotal: 18.2s\tremaining: 5.26s\n",
      "142:\tlearn: 0.8111060\ttest: 0.8156377\tbest: 0.8157419 (133)\ttotal: 18.4s\tremaining: 5.14s\n",
      "143:\tlearn: 0.8110791\ttest: 0.8157136\tbest: 0.8157419 (133)\ttotal: 18.5s\tremaining: 5.02s\n",
      "144:\tlearn: 0.8110763\ttest: 0.8155755\tbest: 0.8157419 (133)\ttotal: 18.7s\tremaining: 4.9s\n",
      "145:\tlearn: 0.8111206\ttest: 0.8156514\tbest: 0.8157419 (133)\ttotal: 18.8s\tremaining: 4.77s\n",
      "146:\tlearn: 0.8111083\ttest: 0.8156117\tbest: 0.8157419 (133)\ttotal: 19s\tremaining: 4.64s\n",
      "147:\tlearn: 0.8111887\ttest: 0.8156162\tbest: 0.8157419 (133)\ttotal: 19.1s\tremaining: 4.52s\n",
      "148:\tlearn: 0.8112455\ttest: 0.8155663\tbest: 0.8157419 (133)\ttotal: 19.3s\tremaining: 4.4s\n",
      "149:\tlearn: 0.8112721\ttest: 0.8155002\tbest: 0.8157419 (133)\ttotal: 19.4s\tremaining: 4.27s\n",
      "150:\tlearn: 0.8112649\ttest: 0.8154998\tbest: 0.8157419 (133)\ttotal: 19.5s\tremaining: 4.14s\n",
      "151:\tlearn: 0.8112499\ttest: 0.8156519\tbest: 0.8157419 (133)\ttotal: 19.7s\tremaining: 4.01s\n",
      "152:\tlearn: 0.8113467\ttest: 0.8157088\tbest: 0.8157419 (133)\ttotal: 19.8s\tremaining: 3.89s\n",
      "153:\tlearn: 0.8114844\ttest: 0.8158658\tbest: 0.8158658 (153)\ttotal: 20s\tremaining: 3.76s\n",
      "154:\tlearn: 0.8114625\ttest: 0.8159417\tbest: 0.8159417 (154)\ttotal: 20.1s\tremaining: 3.63s\n",
      "155:\tlearn: 0.8114546\ttest: 0.8160716\tbest: 0.8160716 (155)\ttotal: 20.2s\tremaining: 3.5s\n",
      "156:\tlearn: 0.8115609\ttest: 0.8161474\tbest: 0.8161474 (156)\ttotal: 20.4s\tremaining: 3.38s\n",
      "157:\tlearn: 0.8116295\ttest: 0.8161736\tbest: 0.8161736 (157)\ttotal: 20.5s\tremaining: 3.25s\n",
      "158:\tlearn: 0.8116184\ttest: 0.8162495\tbest: 0.8162495 (158)\ttotal: 20.7s\tremaining: 3.12s\n",
      "159:\tlearn: 0.8115730\ttest: 0.8162495\tbest: 0.8162495 (158)\ttotal: 20.8s\tremaining: 2.99s\n",
      "160:\tlearn: 0.8116100\ttest: 0.8161271\tbest: 0.8162495 (158)\ttotal: 21s\tremaining: 2.86s\n",
      "161:\tlearn: 0.8116266\ttest: 0.8161359\tbest: 0.8162495 (158)\ttotal: 21.1s\tremaining: 2.73s\n",
      "162:\tlearn: 0.8116841\ttest: 0.8160890\tbest: 0.8162495 (158)\ttotal: 21.2s\tremaining: 2.6s\n",
      "163:\tlearn: 0.8116605\ttest: 0.8160152\tbest: 0.8162495 (158)\ttotal: 21.4s\tremaining: 2.48s\n",
      "164:\tlearn: 0.8116900\ttest: 0.8161642\tbest: 0.8162495 (158)\ttotal: 21.5s\tremaining: 2.35s\n",
      "165:\tlearn: 0.8116403\ttest: 0.8162167\tbest: 0.8162495 (158)\ttotal: 21.7s\tremaining: 2.22s\n",
      "166:\tlearn: 0.8116349\ttest: 0.8160794\tbest: 0.8162495 (158)\ttotal: 21.9s\tremaining: 2.09s\n",
      "167:\tlearn: 0.8117148\ttest: 0.8161290\tbest: 0.8162495 (158)\ttotal: 22s\tremaining: 1.97s\n",
      "168:\tlearn: 0.8116629\ttest: 0.8161653\tbest: 0.8162495 (158)\ttotal: 22.2s\tremaining: 1.84s\n",
      "169:\tlearn: 0.8117309\ttest: 0.8162178\tbest: 0.8162495 (158)\ttotal: 22.3s\tremaining: 1.71s\n",
      "170:\tlearn: 0.8117294\ttest: 0.8160895\tbest: 0.8162495 (158)\ttotal: 22.5s\tremaining: 1.58s\n",
      "171:\tlearn: 0.8117591\ttest: 0.8160633\tbest: 0.8162495 (158)\ttotal: 22.6s\tremaining: 1.45s\n",
      "172:\tlearn: 0.8117821\ttest: 0.8160633\tbest: 0.8162495 (158)\ttotal: 22.8s\tremaining: 1.32s\n",
      "173:\tlearn: 0.8117736\ttest: 0.8160988\tbest: 0.8162495 (158)\ttotal: 23s\tremaining: 1.19s\n",
      "174:\tlearn: 0.8118128\ttest: 0.8161851\tbest: 0.8162495 (158)\ttotal: 23.1s\tremaining: 1.06s\n",
      "175:\tlearn: 0.8118568\ttest: 0.8161851\tbest: 0.8162495 (158)\ttotal: 23.3s\tremaining: 927ms\n",
      "176:\tlearn: 0.8118314\ttest: 0.8163376\tbest: 0.8163376 (176)\ttotal: 23.5s\tremaining: 795ms\n",
      "177:\tlearn: 0.8118102\ttest: 0.8163871\tbest: 0.8163871 (177)\ttotal: 23.6s\tremaining: 663ms\n",
      "178:\tlearn: 0.8118200\ttest: 0.8163871\tbest: 0.8163871 (177)\ttotal: 23.8s\tremaining: 531ms\n",
      "179:\tlearn: 0.8117544\ttest: 0.8163436\tbest: 0.8163871 (177)\ttotal: 23.9s\tremaining: 398ms\n",
      "180:\tlearn: 0.8117997\ttest: 0.8163930\tbest: 0.8163930 (180)\ttotal: 24.1s\tremaining: 266ms\n",
      "181:\tlearn: 0.8118733\ttest: 0.8164784\tbest: 0.8164784 (181)\ttotal: 24.2s\tremaining: 133ms\n",
      "182:\tlearn: 0.8119187\ttest: 0.8165310\tbest: 0.8165310 (182)\ttotal: 24.3s\tremaining: 0us\n",
      "\n",
      "bestTest = 0.8165309653\n",
      "bestIteration = 182\n",
      "\n"
     ]
    },
    {
     "data": {
      "text/plain": [
       "<catboost.core.CatBoostClassifier at 0x1a732b32ac0>"
      ]
     },
     "execution_count": 143,
     "metadata": {},
     "output_type": "execute_result"
    }
   ],
   "source": [
    "model.fit(xtrain,ytrain,cat_features=[1,8],eval_set=(xval,yval))"
   ]
  },
  {
   "cell_type": "code",
   "execution_count": 144,
   "metadata": {},
   "outputs": [
    {
     "data": {
      "text/plain": [
       "[11.837492797332695,\n",
       " 20.673345668134232,\n",
       " 1.8186891048982932,\n",
       " 3.0371117928490383,\n",
       " 9.069556740439374,\n",
       " 1.8887074358603468,\n",
       " 3.6919574874242906,\n",
       " 0.16864689696673246,\n",
       " 10.798769734244905,\n",
       " 2.1497406397058456,\n",
       " 24.23410455161549,\n",
       " 10.631877150528743]"
      ]
     },
     "execution_count": 144,
     "metadata": {},
     "output_type": "execute_result"
    }
   ],
   "source": [
    "model.feature_importances_.tolist()"
   ]
  },
  {
   "cell_type": "code",
   "execution_count": 145,
   "metadata": {},
   "outputs": [],
   "source": [
    "fli=['Tenure','LoanStatus','AGE','LTV','intoamt','amttoinc','anninc','payrej',\\\n",
    "     'CURRENT-BAL','bad','mttonewloan','tmtom']"
   ]
  },
  {
   "cell_type": "code",
   "execution_count": 146,
   "metadata": {},
   "outputs": [],
   "source": [
    "testdata1=testdata[fli]"
   ]
  },
  {
   "cell_type": "code",
   "execution_count": 147,
   "metadata": {},
   "outputs": [],
   "source": [
    "testpred=model.predict(testdata1)"
   ]
  },
  {
   "cell_type": "code",
   "execution_count": 148,
   "metadata": {},
   "outputs": [],
   "source": [
    "subfile=pd.read_csv(r\"sample_submission_ejm25Dc.csv\")"
   ]
  },
  {
   "cell_type": "code",
   "execution_count": 149,
   "metadata": {},
   "outputs": [],
   "source": [
    "subfile['Top-up Month']=testpred.tolist()"
   ]
  },
  {
   "cell_type": "code",
   "execution_count": 150,
   "metadata": {},
   "outputs": [],
   "source": [
    "subfile['Top-up Month']=subfile['Top-up Month'].astype(str)"
   ]
  },
  {
   "cell_type": "code",
   "execution_count": 151,
   "metadata": {},
   "outputs": [],
   "source": [
    "subfile['Top-up Month']=subfile['Top-up Month'].apply(lambda x : x[2:])"
   ]
  },
  {
   "cell_type": "code",
   "execution_count": 152,
   "metadata": {},
   "outputs": [],
   "source": [
    "subfile['Top-up Month']=subfile['Top-up Month'].apply(lambda x : x[:-2])"
   ]
  },
  {
   "cell_type": "code",
   "execution_count": 153,
   "metadata": {},
   "outputs": [],
   "source": [
    "subfile['Top-up Month']=subfile['Top-up Month'].apply(lambda x : x.strip())"
   ]
  },
  {
   "cell_type": "code",
   "execution_count": 154,
   "metadata": {
    "scrolled": true
   },
   "outputs": [
    {
     "data": {
      "text/plain": [
       "No Top-up Service    0.966972\n",
       "> 48 Months          0.021092\n",
       "24-30 Months         0.003391\n",
       "36-48 Months         0.002781\n",
       "18-24 Months         0.002577\n",
       "30-36 Months         0.002509\n",
       "12-18 Months         0.000678\n",
       "Name: Top-up Month, dtype: float64"
      ]
     },
     "execution_count": 154,
     "metadata": {},
     "output_type": "execute_result"
    }
   ],
   "source": [
    "subfile['Top-up Month'].value_counts(normalize=True)"
   ]
  },
  {
   "cell_type": "code",
   "execution_count": 155,
   "metadata": {},
   "outputs": [],
   "source": [
    "subfile.to_csv(\".\\SubResult\\Catboost.csv\",index=False)"
   ]
  },
  {
   "cell_type": "code",
   "execution_count": 156,
   "metadata": {},
   "outputs": [],
   "source": [
    "valpred=model.predict(xval)"
   ]
  },
  {
   "cell_type": "code",
   "execution_count": 157,
   "metadata": {},
   "outputs": [
    {
     "data": {
      "text/plain": [
       "0.40244536616575566"
      ]
     },
     "execution_count": 157,
     "metadata": {},
     "output_type": "execute_result"
    }
   ],
   "source": [
    "f1_score(yval,valpred,average='macro')"
   ]
  },
  {
   "cell_type": "code",
   "execution_count": null,
   "metadata": {},
   "outputs": [],
   "source": []
  }
 ],
 "metadata": {
  "kernelspec": {
   "display_name": "Python 3",
   "language": "python",
   "name": "python3"
  },
  "language_info": {
   "codemirror_mode": {
    "name": "ipython",
    "version": 3
   },
   "file_extension": ".py",
   "mimetype": "text/x-python",
   "name": "python",
   "nbconvert_exporter": "python",
   "pygments_lexer": "ipython3",
   "version": "3.8.5"
  }
 },
 "nbformat": 4,
 "nbformat_minor": 4
}
